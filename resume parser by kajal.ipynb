{
 "cells": [
  {
   "cell_type": "code",
   "execution_count": 3,
   "id": "2f097620",
   "metadata": {},
   "outputs": [
    {
     "name": "stdout",
     "output_type": "stream",
     "text": [
      "Collecting spacy\n",
      "  Downloading spacy-3.4.1-cp39-cp39-win_amd64.whl (11.8 MB)\n",
      "Collecting cymem<2.1.0,>=2.0.2\n",
      "  Downloading cymem-2.0.6-cp39-cp39-win_amd64.whl (36 kB)\n",
      "Collecting langcodes<4.0.0,>=3.2.0\n",
      "  Downloading langcodes-3.3.0-py3-none-any.whl (181 kB)\n",
      "Collecting thinc<8.2.0,>=8.1.0\n",
      "  Downloading thinc-8.1.2-cp39-cp39-win_amd64.whl (1.3 MB)\n",
      "Collecting pydantic!=1.8,!=1.8.1,<1.10.0,>=1.7.4\n",
      "  Downloading pydantic-1.9.2-cp39-cp39-win_amd64.whl (2.0 MB)\n",
      "Collecting spacy-loggers<2.0.0,>=1.0.0\n",
      "  Downloading spacy_loggers-1.0.3-py3-none-any.whl (9.3 kB)\n",
      "Requirement already satisfied: numpy>=1.15.0 in c:\\users\\sandeep\\anaconda3\\lib\\site-packages (from spacy) (1.21.5)\n",
      "Collecting preshed<3.1.0,>=3.0.2\n",
      "  Downloading preshed-3.0.7-cp39-cp39-win_amd64.whl (96 kB)\n",
      "Collecting wasabi<1.1.0,>=0.9.1\n",
      "  Downloading wasabi-0.10.1-py3-none-any.whl (26 kB)\n",
      "Collecting srsly<3.0.0,>=2.4.3\n",
      "  Downloading srsly-2.4.4-cp39-cp39-win_amd64.whl (450 kB)\n",
      "Collecting spacy-legacy<3.1.0,>=3.0.9\n",
      "  Downloading spacy_legacy-3.0.10-py2.py3-none-any.whl (21 kB)\n",
      "Requirement already satisfied: jinja2 in c:\\users\\sandeep\\anaconda3\\lib\\site-packages (from spacy) (2.11.3)\n",
      "Requirement already satisfied: setuptools in c:\\users\\sandeep\\anaconda3\\lib\\site-packages (from spacy) (61.2.0)\n",
      "Collecting typer<0.5.0,>=0.3.0\n",
      "  Downloading typer-0.4.2-py3-none-any.whl (27 kB)\n",
      "Collecting pathy>=0.3.5\n",
      "  Downloading pathy-0.6.2-py3-none-any.whl (42 kB)\n",
      "Requirement already satisfied: packaging>=20.0 in c:\\users\\sandeep\\anaconda3\\lib\\site-packages (from spacy) (21.3)\n",
      "Collecting murmurhash<1.1.0,>=0.28.0\n",
      "  Downloading murmurhash-1.0.8-cp39-cp39-win_amd64.whl (18 kB)\n",
      "Requirement already satisfied: requests<3.0.0,>=2.13.0 in c:\\users\\sandeep\\anaconda3\\lib\\site-packages (from spacy) (2.27.1)\n",
      "Collecting catalogue<2.1.0,>=2.0.6\n",
      "  Downloading catalogue-2.0.8-py3-none-any.whl (17 kB)\n",
      "Requirement already satisfied: tqdm<5.0.0,>=4.38.0 in c:\\users\\sandeep\\anaconda3\\lib\\site-packages (from spacy) (4.64.0)\n",
      "Requirement already satisfied: pyparsing!=3.0.5,>=2.0.2 in c:\\users\\sandeep\\anaconda3\\lib\\site-packages (from packaging>=20.0->spacy) (3.0.4)\n",
      "Collecting smart-open<6.0.0,>=5.2.1\n",
      "  Downloading smart_open-5.2.1-py3-none-any.whl (58 kB)\n",
      "Requirement already satisfied: typing-extensions>=3.7.4.3 in c:\\users\\sandeep\\anaconda3\\lib\\site-packages (from pydantic!=1.8,!=1.8.1,<1.10.0,>=1.7.4->spacy) (4.1.1)\n",
      "Requirement already satisfied: certifi>=2017.4.17 in c:\\users\\sandeep\\anaconda3\\lib\\site-packages (from requests<3.0.0,>=2.13.0->spacy) (2021.10.8)\n",
      "Requirement already satisfied: charset-normalizer~=2.0.0 in c:\\users\\sandeep\\anaconda3\\lib\\site-packages (from requests<3.0.0,>=2.13.0->spacy) (2.0.4)\n",
      "Requirement already satisfied: idna<4,>=2.5 in c:\\users\\sandeep\\anaconda3\\lib\\site-packages (from requests<3.0.0,>=2.13.0->spacy) (3.3)\n",
      "Requirement already satisfied: urllib3<1.27,>=1.21.1 in c:\\users\\sandeep\\anaconda3\\lib\\site-packages (from requests<3.0.0,>=2.13.0->spacy) (1.26.9)\n",
      "Collecting blis<0.8.0,>=0.7.8\n",
      "  Downloading blis-0.7.8-cp39-cp39-win_amd64.whl (6.6 MB)\n",
      "Collecting confection<1.0.0,>=0.0.1\n",
      "  Downloading confection-0.0.2-py3-none-any.whl (32 kB)\n",
      "Requirement already satisfied: colorama in c:\\users\\sandeep\\anaconda3\\lib\\site-packages (from tqdm<5.0.0,>=4.38.0->spacy) (0.4.4)\n",
      "Requirement already satisfied: click<9.0.0,>=7.1.1 in c:\\users\\sandeep\\anaconda3\\lib\\site-packages (from typer<0.5.0,>=0.3.0->spacy) (8.0.4)\n",
      "Requirement already satisfied: MarkupSafe>=0.23 in c:\\users\\sandeep\\anaconda3\\lib\\site-packages (from jinja2->spacy) (2.0.1)\n",
      "Installing collected packages: catalogue, srsly, pydantic, murmurhash, cymem, wasabi, typer, smart-open, preshed, confection, blis, thinc, spacy-loggers, spacy-legacy, pathy, langcodes, spacy\n",
      "  Attempting uninstall: smart-open\n",
      "    Found existing installation: smart-open 5.1.0\n",
      "    Uninstalling smart-open-5.1.0:\n",
      "      Successfully uninstalled smart-open-5.1.0\n",
      "Successfully installed blis-0.7.8 catalogue-2.0.8 confection-0.0.2 cymem-2.0.6 langcodes-3.3.0 murmurhash-1.0.8 pathy-0.6.2 preshed-3.0.7 pydantic-1.9.2 smart-open-5.2.1 spacy-3.4.1 spacy-legacy-3.0.10 spacy-loggers-1.0.3 srsly-2.4.4 thinc-8.1.2 typer-0.4.2 wasabi-0.10.1\n"
     ]
    }
   ],
   "source": [
    "! pip3 install spacy"
   ]
  },
  {
   "cell_type": "code",
   "execution_count": 5,
   "id": "4793326f",
   "metadata": {},
   "outputs": [],
   "source": [
    "from importlib import reload"
   ]
  },
  {
   "cell_type": "code",
   "execution_count": 10,
   "id": "bfaeeed5",
   "metadata": {},
   "outputs": [],
   "source": [
    "from io import BytesIO     # for handling byte strings\n",
    "from io import StringIO    # for handling unicode strings\n",
    "from io import StringIO"
   ]
  },
  {
   "cell_type": "code",
   "execution_count": 14,
   "id": "5e4a5cab",
   "metadata": {},
   "outputs": [
    {
     "name": "stdout",
     "output_type": "stream",
     "text": [
      "Collecting pdfminer.six\n",
      "  Downloading pdfminer.six-20220524-py3-none-any.whl (5.6 MB)\n",
      "Collecting cryptography>=36.0.0\n",
      "  Downloading cryptography-38.0.1-cp36-abi3-win_amd64.whl (2.4 MB)\n",
      "Requirement already satisfied: charset-normalizer>=2.0.0 in c:\\users\\sandeep\\anaconda3\\lib\\site-packages (from pdfminer.six) (2.0.4)\n",
      "Requirement already satisfied: cffi>=1.12 in c:\\users\\sandeep\\anaconda3\\lib\\site-packages (from cryptography>=36.0.0->pdfminer.six) (1.15.0)\n",
      "Requirement already satisfied: pycparser in c:\\users\\sandeep\\anaconda3\\lib\\site-packages (from cffi>=1.12->cryptography>=36.0.0->pdfminer.six) (2.21)\n",
      "Installing collected packages: cryptography, pdfminer.six\n",
      "  Attempting uninstall: cryptography\n",
      "    Found existing installation: cryptography 3.4.8\n",
      "    Uninstalling cryptography-3.4.8:\n",
      "      Successfully uninstalled cryptography-3.4.8\n",
      "Successfully installed cryptography-38.0.1 pdfminer.six-20220524\n",
      "Collecting pdfminer\n",
      "  Downloading pdfminer-20191125.tar.gz (4.2 MB)\n",
      "Collecting pycryptodome\n",
      "  Downloading pycryptodome-3.15.0-cp35-abi3-win_amd64.whl (1.9 MB)\n",
      "Building wheels for collected packages: pdfminer\n",
      "  Building wheel for pdfminer (setup.py): started\n",
      "  Building wheel for pdfminer (setup.py): still running...\n",
      "  Building wheel for pdfminer (setup.py): finished with status 'done'\n",
      "  Created wheel for pdfminer: filename=pdfminer-20191125-py3-none-any.whl size=6140171 sha256=a9b2eaeef29096947f4606e3a93e0c9ab35f1a73fb9928f4be9a6ca6ad7777aa\n",
      "  Stored in directory: c:\\users\\sandeep\\appdata\\local\\pip\\cache\\wheels\\d1\\aa\\48\\370f83a970d62355a2a47d2d640094a64eea932c22edae1891\n",
      "Successfully built pdfminer\n",
      "Installing collected packages: pycryptodome, pdfminer\n",
      "Successfully installed pdfminer-20191125 pycryptodome-3.15.0\n",
      "Collecting pdfminer2\n",
      "  Downloading pdfminer2-20151206-py2.py3-none-any.whl (117 kB)\n",
      "Requirement already satisfied: six in c:\\users\\sandeep\\anaconda3\\lib\\site-packages (from pdfminer2) (1.16.0)\n",
      "Installing collected packages: pdfminer2\n",
      "Successfully installed pdfminer2-20151206\n",
      "Collecting pdfminer3\n",
      "  Downloading pdfminer3-2018.12.3.0.tar.gz (5.0 MB)\n",
      "Requirement already satisfied: pycryptodome in c:\\users\\sandeep\\anaconda3\\lib\\site-packages (from pdfminer3) (3.15.0)\n",
      "Requirement already satisfied: sortedcontainers in c:\\users\\sandeep\\anaconda3\\lib\\site-packages (from pdfminer3) (2.4.0)\n",
      "Requirement already satisfied: chardet in c:\\users\\sandeep\\anaconda3\\lib\\site-packages (from pdfminer3) (4.0.0)\n",
      "Building wheels for collected packages: pdfminer3\n",
      "  Building wheel for pdfminer3 (setup.py): started\n",
      "  Building wheel for pdfminer3 (setup.py): finished with status 'done'\n",
      "  Created wheel for pdfminer3: filename=pdfminer3-2018.12.3.0-py3-none-any.whl size=117873 sha256=997af061f8313918a6f5e31dfb8d5ff47685e34a3cddc980348a587736a3cf49\n",
      "  Stored in directory: c:\\users\\sandeep\\appdata\\local\\pip\\cache\\wheels\\d0\\c9\\2c\\092606572d1d797cb1e8186b3d40234e4736e4df6489a82849\n",
      "Successfully built pdfminer3\n",
      "Installing collected packages: pdfminer3\n",
      "Successfully installed pdfminer3-2018.12.3.0\n"
     ]
    }
   ],
   "source": [
    "!pip install pdfminer.six\n",
    "!pip install pdfminer\n",
    "!pip install pdfminer2\n",
    "!pip install pdfminer3"
   ]
  },
  {
   "cell_type": "code",
   "execution_count": 15,
   "id": "ab011c3b",
   "metadata": {},
   "outputs": [
    {
     "ename": "ModuleNotFoundError",
     "evalue": "No module named 'urllib2'",
     "output_type": "error",
     "traceback": [
      "\u001b[1;31m---------------------------------------------------------------------------\u001b[0m",
      "\u001b[1;31mModuleNotFoundError\u001b[0m                       Traceback (most recent call last)",
      "Input \u001b[1;32mIn [15]\u001b[0m, in \u001b[0;36m<cell line: 17>\u001b[1;34m()\u001b[0m\n\u001b[0;32m     15\u001b[0m \u001b[38;5;28;01mimport\u001b[39;00m \u001b[38;5;21;01mnumpy\u001b[39;00m \u001b[38;5;28;01mas\u001b[39;00m \u001b[38;5;21;01mnp\u001b[39;00m\n\u001b[0;32m     16\u001b[0m \u001b[38;5;28;01mfrom\u001b[39;00m \u001b[38;5;21;01mbs4\u001b[39;00m \u001b[38;5;28;01mimport\u001b[39;00m BeautifulSoup\n\u001b[1;32m---> 17\u001b[0m \u001b[38;5;28;01mimport\u001b[39;00m \u001b[38;5;21;01murllib2\u001b[39;00m\n\u001b[0;32m     18\u001b[0m \u001b[38;5;28;01mfrom\u001b[39;00m \u001b[38;5;21;01murllib2\u001b[39;00m \u001b[38;5;28;01mimport\u001b[39;00m urlopen\n",
      "\u001b[1;31mModuleNotFoundError\u001b[0m: No module named 'urllib2'"
     ]
    }
   ],
   "source": [
    "import csv\n",
    "import re\n",
    "import spacy\n",
    "import sys\n",
    "reload(sys)\n",
    "import pandas as pd\n",
    "#sys.setdefaultencoding('utf8')\n",
    "#from cStringIO import StringIO\n",
    "from pdfminer.pdfinterp import PDFResourceManager, PDFPageInterpreter\n",
    "from pdfminer.converter import TextConverter\n",
    "from pdfminer.layout import LAParams\n",
    "from pdfminer.pdfpage import PDFPage\n",
    "import os\n",
    "import sys, getopt\n",
    "import numpy as np\n",
    "from bs4 import BeautifulSoup\n",
    "import urllib2\n",
    "from urllib2 import urlopen"
   ]
  },
  {
   "cell_type": "code",
   "execution_count": null,
   "id": "9b9eeb24",
   "metadata": {},
   "outputs": [],
   "source": [
    "#Function converting pdf to string\n",
    "def convert(fname, pages=None):\n",
    "    if not pages:\n",
    "        pagenums = set()\n",
    "    else:\n",
    "        pagenums = set(pages)\n",
    "\n",
    "    output = StringIO()\n",
    "    manager = PDFResourceManager()\n",
    "    converter = TextConverter(manager, output, laparams=LAParams())\n",
    "    interpreter = PDFPageInterpreter(manager, converter)\n",
    "\n",
    "    infile = file(fname, 'rb')\n",
    "    for page in PDFPage.get_pages(infile, pagenums):\n",
    "        interpreter.process_page(page)\n",
    "    infile.close()\n",
    "    converter.close()\n",
    "    text = output.getvalue()\n",
    "    output.close\n",
    "    return text"
   ]
  },
  {
   "cell_type": "code",
   "execution_count": null,
   "id": "68a27bcf",
   "metadata": {},
   "outputs": [],
   "source": [
    "#Function to extract names from the string using spacy\n",
    "def extract_name(string):\n",
    "    r1 = unicode(string)\n",
    "    nlp = spacy.load('xx')\n",
    "    doc = nlp(r1)\n",
    "    for ent in doc.ents:\n",
    "        if(ent.label_ == 'PER'):\n",
    "            print(ent.text)\n",
    "            break"
   ]
  },
  {
   "cell_type": "code",
   "execution_count": null,
   "id": "7b4b0a1b",
   "metadata": {},
   "outputs": [],
   "source": [
    "#Function to extract Phone Numbers from string using regular expressions\n",
    "def extract_phone_numbers(string):\n",
    "    r = re.compile(r'(\\d{3}[-\\.\\s]??\\d{3}[-\\.\\s]??\\d{4}|\\(\\d{3}\\)\\s*\\d{3}[-\\.\\s]??\\d{4}|\\d{3}[-\\.\\s]??\\d{4})')\n",
    "    phone_numbers = r.findall(string)\n",
    "    return [re.sub(r'\\D', '', number) for number in phone_numbers]"
   ]
  },
  {
   "cell_type": "code",
   "execution_count": null,
   "id": "ce1c435c",
   "metadata": {},
   "outputs": [],
   "source": [
    "#Function to extract Email address from a string using regular expressions\n",
    "def extract_email_addresses(string):\n",
    "    r = re.compile(r'[\\w\\.-]+@[\\w\\.-]+')\n",
    "    return r.findall(string)\n",
    "#Converting pdf to string\n",
    "resume_string = convert(\"C:\\Users\\sandeep\\Desktop\\kajal\\doc\\kajal panwar.pdf\")\n",
    "resume_string1 = resume_string\n",
    "#Removing commas in the resume for an effecient check\n",
    "resume_string = resume_string.replace(',',' ')\n",
    "#Converting all the charachters in lower case\n",
    "resume_string = resume_string.lower()"
   ]
  },
  {
   "cell_type": "code",
   "execution_count": null,
   "id": "f73a369c",
   "metadata": {},
   "outputs": [],
   "source": [
    "#Information Extraction Function\n",
    "def extract_information(string):\n",
    "    string.replace (\" \", \"+\")\n",
    "    query = string\n",
    "    soup = BeautifulSoup(urlopen(\"https://en.wikipedia.org/wiki/\" + query), \"html.parser\")\n",
    "    #creates soup and opens URL for Google. Begins search with site:wikipedia.com so only wikipedia\n",
    "    #links show up. Uses html parser.\n",
    "    for item in soup.find_all('div', attrs={'id' : \"mw-content-text\"}):\n",
    "        print(item.find('p').get_text())\n",
    "        print('\\n')\n",
    "with open('techatt.csv', 'rb') as f:\n",
    "    reader = csv.reader(f)\n",
    "    your_listatt = list(reader)\n",
    "with open('techskill.csv', 'rb') as f:\n",
    "    reader = csv.reader(f)\n",
    "    your_list = list(reader)\n",
    "with open('nontechnicalskills.csv', 'rb') as f:\n",
    "    reader = csv.reader(f)\n",
    "    your_list1 = list(reader)"
   ]
  },
  {
   "cell_type": "code",
   "execution_count": null,
   "id": "914e72ee",
   "metadata": {},
   "outputs": [],
   "source": [
    "#Sets are used as it has a a constant time for lookup hence the overall the time for the total code will not exceed O(n)\n",
    "s = set(your_list[0])\n",
    "s1 = your_list\n",
    "s2 = your_listatt\n",
    "skillindex = []\n",
    "skills = []\n",
    "skillsatt = []\n",
    "print('\\n')\n",
    "extract_name(resume_string1)\n",
    "print('\\n')\n",
    "print('Phone Number is')\n",
    "y = extract_phone_numbers(resume_string)\n",
    "y1 = []\n",
    "for i in range(len(y)):\n",
    "    if(len(y[i])>9):\n",
    "        y1.append(y[i])\n",
    "print(y1)\n",
    "print('\\n')\n",
    "print('Email id is')\n",
    "print(extract_email_addresses(resume_string))\n",
    "for word in resume_string.split(\" \"):\n",
    "    if word in s:\n",
    "        skills.append(word)\n",
    "skills1 = list(set(skills))\n",
    "print('\\n')\n",
    "print(\"Following are his/her Technical Skills\")\n",
    "print('\\n')\n",
    "np_a1 = np.array(your_list)\n",
    "for i in range(len(skills1)):\n",
    "    item_index = np.where(np_a1==skills1[i])\n",
    "    skillindex.append(item_index[1][0])\n",
    "\n",
    "nlen = len(skillindex)\n",
    "for i in range(nlen):\n",
    "    print(skills1[i])\n",
    "    print(s2[0][skillindex[i]])\n",
    "    print('\\n')\n"
   ]
  },
  {
   "cell_type": "code",
   "execution_count": null,
   "id": "2a948fcd",
   "metadata": {},
   "outputs": [],
   "source": [
    "#Sets are used as it has a a constant time for lookup hence the overall the time for the total code will not exceed O(n)\n",
    "s1 = set(your_list1[0])\n",
    "nontechskills = []\n",
    "for word in resume_string.split(\" \"):\n",
    "    if word in s1:\n",
    "        nontechskills.append(word)\n",
    "nontechskills = set(nontechskills)\n",
    "print('\\n')\n",
    "\n",
    "print(\"Following are his/her Non Technical Skills\")\n",
    "list5 = list(nontechskills)\n",
    "print('\\n')\n",
    "for i in range(len(list5)):\n",
    "    print(list5[i])\n",
    "print('\\n \\n')\n"
   ]
  },
  {
   "cell_type": "code",
   "execution_count": null,
   "id": "331d4726",
   "metadata": {},
   "outputs": [],
   "source": []
  }
 ],
 "metadata": {
  "kernelspec": {
   "display_name": "Python 3 (ipykernel)",
   "language": "python",
   "name": "python3"
  },
  "language_info": {
   "codemirror_mode": {
    "name": "ipython",
    "version": 3
   },
   "file_extension": ".py",
   "mimetype": "text/x-python",
   "name": "python",
   "nbconvert_exporter": "python",
   "pygments_lexer": "ipython3",
   "version": "3.9.12"
  }
 },
 "nbformat": 4,
 "nbformat_minor": 5
}
